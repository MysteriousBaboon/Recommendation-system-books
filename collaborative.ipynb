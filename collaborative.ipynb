{
 "metadata": {
  "language_info": {
   "codemirror_mode": {
    "name": "ipython",
    "version": 3
   },
   "file_extension": ".py",
   "mimetype": "text/x-python",
   "name": "python",
   "nbconvert_exporter": "python",
   "pygments_lexer": "ipython3",
   "version": "3.8.5"
  },
  "orig_nbformat": 2,
  "kernelspec": {
   "name": "pythonjvsc74a57bd03b56c616920ab3649b362da6ffe4260c9b65d7a4c957464dd7c1299189fbb523",
   "display_name": "Python 3.8.5  ('venv': venv)"
  },
  "metadata": {
   "interpreter": {
    "hash": "3b56c616920ab3649b362da6ffe4260c9b65d7a4c957464dd7c1299189fbb523"
   }
  }
 },
 "nbformat": 4,
 "nbformat_minor": 2,
 "cells": [
  {
   "cell_type": "code",
   "execution_count": 1,
   "metadata": {},
   "outputs": [],
   "source": [
    "import mysql.connector as con\n",
    "import pandas as pd \n",
    "import numpy as np \n",
    "from surprise import Dataset, Reader\n",
    "from surprise import KNNWithMeans\n",
    "from surprise.model_selection import GridSearchCV"
   ]
  },
  {
   "cell_type": "code",
   "execution_count": 2,
   "metadata": {
    "tags": []
   },
   "outputs": [
    {
     "output_type": "stream",
     "name": "stdout",
     "text": [
      "Connected to MySQL Server version  8.0.23-0ubuntu0.20.04.1\n"
     ]
    },
    {
     "output_type": "execute_result",
     "data": {
      "text/plain": [
       "         user_id  best_book_id  \\\n",
       "0              1          1232   \n",
       "1              2          4865   \n",
       "2              2           998   \n",
       "3              2           968   \n",
       "4              2          4894   \n",
       "...          ...           ...   \n",
       "5976474    49802       6098691   \n",
       "5976475    10622      25817162   \n",
       "5976476    35303      27824826   \n",
       "5976477    21879       7202841   \n",
       "5976478    23863      28204534   \n",
       "\n",
       "                                                     title  rating  \\\n",
       "0        The Shadow of the Wind (The Cemetery of Forgot...       5   \n",
       "1                  How to Win Friends and Influence People       5   \n",
       "2        The Millionaire Next Door: The Surprising Secr...       3   \n",
       "3                   The Da Vinci Code (Robert Langdon, #2)       4   \n",
       "4                                     Who Moved My Cheese?       3   \n",
       "...                                                    ...     ...   \n",
       "5976474             Divine Misdemeanors (Merry Gentry, #8)       3   \n",
       "5976475                           America's First Daughter       4   \n",
       "5976476                           The Dry (Aaron Falk, #1)       5   \n",
       "5976477              Locke & Key, Vol. 3: Crown of Shadows       5   \n",
       "5976478              Paper Girls, Vol. 1 (Paper Girls, #1)       4   \n",
       "\n",
       "         average_rating  \n",
       "0                  4.24  \n",
       "1                  4.13  \n",
       "2                  4.00  \n",
       "3                  3.79  \n",
       "4                  3.74  \n",
       "...                 ...  \n",
       "5976474            4.04  \n",
       "5976475            4.22  \n",
       "5976476            4.07  \n",
       "5976477            4.41  \n",
       "5976478            3.87  \n",
       "\n",
       "[5976479 rows x 5 columns]"
      ],
      "text/html": "<div>\n<style scoped>\n    .dataframe tbody tr th:only-of-type {\n        vertical-align: middle;\n    }\n\n    .dataframe tbody tr th {\n        vertical-align: top;\n    }\n\n    .dataframe thead th {\n        text-align: right;\n    }\n</style>\n<table border=\"1\" class=\"dataframe\">\n  <thead>\n    <tr style=\"text-align: right;\">\n      <th></th>\n      <th>user_id</th>\n      <th>best_book_id</th>\n      <th>title</th>\n      <th>rating</th>\n      <th>average_rating</th>\n    </tr>\n  </thead>\n  <tbody>\n    <tr>\n      <th>0</th>\n      <td>1</td>\n      <td>1232</td>\n      <td>The Shadow of the Wind (The Cemetery of Forgot...</td>\n      <td>5</td>\n      <td>4.24</td>\n    </tr>\n    <tr>\n      <th>1</th>\n      <td>2</td>\n      <td>4865</td>\n      <td>How to Win Friends and Influence People</td>\n      <td>5</td>\n      <td>4.13</td>\n    </tr>\n    <tr>\n      <th>2</th>\n      <td>2</td>\n      <td>998</td>\n      <td>The Millionaire Next Door: The Surprising Secr...</td>\n      <td>3</td>\n      <td>4.00</td>\n    </tr>\n    <tr>\n      <th>3</th>\n      <td>2</td>\n      <td>968</td>\n      <td>The Da Vinci Code (Robert Langdon, #2)</td>\n      <td>4</td>\n      <td>3.79</td>\n    </tr>\n    <tr>\n      <th>4</th>\n      <td>2</td>\n      <td>4894</td>\n      <td>Who Moved My Cheese?</td>\n      <td>3</td>\n      <td>3.74</td>\n    </tr>\n    <tr>\n      <th>...</th>\n      <td>...</td>\n      <td>...</td>\n      <td>...</td>\n      <td>...</td>\n      <td>...</td>\n    </tr>\n    <tr>\n      <th>5976474</th>\n      <td>49802</td>\n      <td>6098691</td>\n      <td>Divine Misdemeanors (Merry Gentry, #8)</td>\n      <td>3</td>\n      <td>4.04</td>\n    </tr>\n    <tr>\n      <th>5976475</th>\n      <td>10622</td>\n      <td>25817162</td>\n      <td>America's First Daughter</td>\n      <td>4</td>\n      <td>4.22</td>\n    </tr>\n    <tr>\n      <th>5976476</th>\n      <td>35303</td>\n      <td>27824826</td>\n      <td>The Dry (Aaron Falk, #1)</td>\n      <td>5</td>\n      <td>4.07</td>\n    </tr>\n    <tr>\n      <th>5976477</th>\n      <td>21879</td>\n      <td>7202841</td>\n      <td>Locke &amp; Key, Vol. 3: Crown of Shadows</td>\n      <td>5</td>\n      <td>4.41</td>\n    </tr>\n    <tr>\n      <th>5976478</th>\n      <td>23863</td>\n      <td>28204534</td>\n      <td>Paper Girls, Vol. 1 (Paper Girls, #1)</td>\n      <td>4</td>\n      <td>3.87</td>\n    </tr>\n  </tbody>\n</table>\n<p>5976479 rows × 5 columns</p>\n</div>"
     },
     "metadata": {},
     "execution_count": 2
    }
   ],
   "source": [
    "connection = con.connect(host='localhost', database='goodreads',user='mark',password='19991999')\n",
    "if connection.is_connected():\n",
    "    \n",
    "    db_Info = connection.get_server_info()\n",
    "    print(\"Connected to MySQL Server version \", db_Info)\n",
    "    \n",
    "    df = pd.read_sql(\"SELECT ratings.user_id, books.best_book_id, books.title, ratings.rating, books.average_rating FROM ratings Inner Join books on ratings.book_id = books.book_id\", connection)\n",
    "\n",
    "\n",
    "np.random.seed(10)\n",
    "\n",
    "remove_n = 0\n",
    "drop_indices = np.random.choice(df.index, remove_n, replace=False)\n",
    "df = df.drop(drop_indices)\n",
    "df"
   ]
  },
  {
   "cell_type": "code",
   "execution_count": 3,
   "metadata": {},
   "outputs": [],
   "source": [
    "reader = Reader(rating_scale=(1,5))\n",
    "data = Dataset.load_from_df(df[[\"user_id\", \"best_book_id\", \"rating\"]],reader)"
   ]
  },
  {
   "cell_type": "code",
   "execution_count": 4,
   "metadata": {},
   "outputs": [],
   "source": [
    "sim_options = { \"sim_options\":{\n",
    "    \"name\": [\"msd\",\"cosine\"],\n",
    "    \"min_support\": [3,4,5],\n",
    "    \"user_based\": [False], \n",
    "}}\n",
    "gs = GridSearchCV(KNNWithMeans, param_grid=sim_options, measures=[\"rmse\",\"mae\"], refit=True, cv=3,joblib_verbose=2, n_jobs=-1)\n"
   ]
  },
  {
   "cell_type": "code",
   "execution_count": 9,
   "metadata": {},
   "outputs": [
    {
     "output_type": "stream",
     "name": "stderr",
     "text": [
      "[Parallel(n_jobs=1)]: Using backend SequentialBackend with 1 concurrent workers.\n",
      "Computing the msd similarity matrix...\n",
      "[Parallel(n_jobs=1)]: Done   1 out of   1 | elapsed:   19.0s remaining:    0.0s\n",
      "Done computing similarity matrix.\n",
      "Computing the msd similarity matrix...\n",
      "Done computing similarity matrix.\n",
      "Computing the msd similarity matrix...\n",
      "Done computing similarity matrix.\n",
      "Computing the msd similarity matrix...\n",
      "Done computing similarity matrix.\n",
      "Computing the msd similarity matrix...\n",
      "Done computing similarity matrix.\n",
      "Computing the msd similarity matrix...\n",
      "Done computing similarity matrix.\n",
      "Computing the msd similarity matrix...\n",
      "Done computing similarity matrix.\n",
      "Computing the msd similarity matrix...\n",
      "Done computing similarity matrix.\n",
      "Computing the msd similarity matrix...\n",
      "Done computing similarity matrix.\n",
      "Computing the cosine similarity matrix...\n",
      "Done computing similarity matrix.\n",
      "Computing the cosine similarity matrix...\n",
      "Done computing similarity matrix.\n",
      "Computing the cosine similarity matrix...\n",
      "Done computing similarity matrix.\n",
      "Computing the cosine similarity matrix...\n",
      "Done computing similarity matrix.\n",
      "Computing the cosine similarity matrix...\n",
      "Done computing similarity matrix.\n",
      "Computing the cosine similarity matrix...\n",
      "Done computing similarity matrix.\n",
      "Computing the cosine similarity matrix...\n",
      "Done computing similarity matrix.\n",
      "Computing the cosine similarity matrix...\n",
      "Done computing similarity matrix.\n",
      "Computing the cosine similarity matrix...\n",
      "Done computing similarity matrix.\n",
      "[Parallel(n_jobs=1)]: Done  18 out of  18 | elapsed:  5.4min finished\n",
      "Computing the cosine similarity matrix...\n",
      "Done computing similarity matrix.\n",
      "0.9692255901489623\n",
      "{'sim_options': {'name': 'cosine', 'min_support': 3, 'user_based': False}}\n"
     ]
    }
   ],
   "source": [
    "training = data.build_full_trainset()\n",
    "gs.fit(data)\n",
    "print(gs.best_score[\"rmse\"])\n",
    "print(gs.best_params[\"rmse\"])"
   ]
  },
  {
   "cell_type": "code",
   "execution_count": null,
   "metadata": {},
   "outputs": [],
   "source": [
    "prediction = algo.predict(2, 5)\n",
    "print(df[(df[\"user_id\"] == 2)  & (df[\"best_book_id\"]==5)].title)\n",
    "prediction"
   ]
  },
  {
   "cell_type": "code",
   "execution_count": null,
   "metadata": {},
   "outputs": [],
   "source": []
  }
 ]
}